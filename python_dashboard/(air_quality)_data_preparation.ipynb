version https://git-lfs.github.com/spec/v1
oid sha256:c27a1cbec8b98b5228289ff401442de45f1784c4c188008ba42426d6fe2cd2d4
size 141213
